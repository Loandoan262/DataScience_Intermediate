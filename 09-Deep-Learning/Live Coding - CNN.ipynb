{
 "cells": [
  {
   "cell_type": "code",
   "execution_count": 23,
   "id": "ea2cf185-3c80-4a9f-9a22-2b07e61ac5cb",
   "metadata": {},
   "outputs": [],
   "source": [
    "import tensorflow as tf\n",
    "from tensorflow import keras\n",
    "from tensorflow.keras import models, layers\n",
    "\n",
    "import numpy as np\n",
    "import matplotlib.pyplot as plt\n",
    "\n",
    "from tensorflow.keras.utils import to_categorical"
   ]
  },
  {
   "cell_type": "code",
   "execution_count": 2,
   "id": "9535d829-b3c5-43ff-bb51-924ae691c0f6",
   "metadata": {},
   "outputs": [
    {
     "name": "stdout",
     "output_type": "stream",
     "text": [
      "2.12.0\n"
     ]
    }
   ],
   "source": [
    "print(tf.__version__)"
   ]
  },
  {
   "cell_type": "markdown",
   "id": "3e285837-d8fd-4444-adb1-9f309928148c",
   "metadata": {},
   "source": [
    "# MNIST DATA"
   ]
  },
  {
   "cell_type": "code",
   "execution_count": 3,
   "id": "ff307a1a-8008-463a-a4c4-785bd1b2b090",
   "metadata": {},
   "outputs": [],
   "source": [
    "mnist = keras.datasets.mnist"
   ]
  },
  {
   "cell_type": "code",
   "execution_count": 8,
   "id": "15c153cc-2143-49ec-b1fe-ae5cf70349e0",
   "metadata": {},
   "outputs": [
    {
     "name": "stdout",
     "output_type": "stream",
     "text": [
      "(60000, 28, 28)\n",
      "(60000,)\n",
      "(10000, 28, 28)\n",
      "(10000,)\n"
     ]
    }
   ],
   "source": [
    "(X_train, y_train), (X_test, y_test) = mnist.load_data()\n",
    "\n",
    "print(X_train.shape)\n",
    "print(y_train.shape)\n",
    "print(X_test.shape)\n",
    "print(y_test.shape)"
   ]
  },
  {
   "cell_type": "code",
   "execution_count": 14,
   "id": "e7e97536-9895-433c-abc7-e39c8dc16b09",
   "metadata": {},
   "outputs": [
    {
     "data": {
      "image/png": "[encoded data removed]",
      "text/plain": [
       "<Figure size 640x480 with 1 Axes>"
      ]
     },
     "metadata": {},
     "output_type": "display_data"
    },
    {
     "name": "stdout",
     "output_type": "stream",
     "text": [
      "4\n"
     ]
    }
   ],
   "source": [
    "index = 20\n",
    "plt.imshow(X_train[index], cmap=\"gray\")\n",
    "plt.show()\n",
    "print(y_train[index])"
   ]
  },
  {
   "cell_type": "code",
   "execution_count": 15,
   "id": "1ecbc826-8afe-4fd9-bfb2-aad1e629a938",
   "metadata": {},
   "outputs": [
    {
     "data": {
      "text/plain": [
       "['Zero',\n",
       " 'One',\n",
       " 'Two',\n",
       " 'Three',\n",
       " 'Four',\n",
       " 'Five',\n",
       " 'Six',\n",
       " 'Seven',\n",
       " 'Eight',\n",
       " 'Nine']"
      ]
     },
     "execution_count": 15,
     "metadata": {},
     "output_type": "execute_result"
    }
   ],
   "source": [
    "class_names = [\"Zero\", \"One\", \"Two\", \"Three\", \"Four\", \"Five\", \"Six\", \"Seven\", \"Eight\", \"Nine\"]\n",
    "class_names"
   ]
  },
  {
   "cell_type": "markdown",
   "id": "d827d62a-14c5-479b-a24e-e8a35379b63f",
   "metadata": {},
   "source": [
    "# Data Preparation"
   ]
  },
  {
   "cell_type": "code",
   "execution_count": 16,
   "id": "b2f2b5ca-c276-450a-998a-ccb992136206",
   "metadata": {},
   "outputs": [
    {
     "data": {
      "text/plain": [
       "array([5, 0, 4, ..., 5, 6, 8], dtype=uint8)"
      ]
     },
     "execution_count": 16,
     "metadata": {},
     "output_type": "execute_result"
    }
   ],
   "source": [
    "y_train"
   ]
  },
  {
   "cell_type": "code",
   "execution_count": 18,
   "id": "a3fba361-fece-4331-9074-2c3ac7d30e1e",
   "metadata": {},
   "outputs": [],
   "source": [
    "y_train = to_categorical(y_train)\n",
    "y_test = to_categorical(y_test)"
   ]
  },
  {
   "cell_type": "code",
   "execution_count": 20,
   "id": "4979750f-1342-460f-a163-e3a2e98ede1f",
   "metadata": {},
   "outputs": [
    {
     "data": {
      "text/plain": [
       "(10000, 10)"
      ]
     },
     "execution_count": 20,
     "metadata": {},
     "output_type": "execute_result"
    }
   ],
   "source": [
    "y_test.shape"
   ]
  },
  {
   "cell_type": "markdown",
   "id": "4623bc98-1d10-49d7-8c84-79956b182188",
   "metadata": {},
   "source": [
    "# CNN"
   ]
  },
  {
   "cell_type": "code",
   "execution_count": 28,
   "id": "cdcdd3ad-3e2f-427f-ab63-1e7d0dabbe25",
   "metadata": {},
   "outputs": [],
   "source": [
    "model = models.Sequential()\n",
    "model.add(layers.Conv2D(6, (3,3), input_shape=(28,28,1), activation=\"relu\"))\n",
    "model.add(layers.MaxPooling2D(pool_size=(2,2)))\n",
    "\n",
    "model.add(layers.Conv2D(10, (3,3), activation=\"relu\"))\n",
    "model.add(layers.MaxPooling2D(pool_size=(2,2)))\n",
    "\n",
    "model.add(layers.Flatten())\n",
    "\n",
    "model.add(layers.Dense(128, activation=\"relu\"))\n",
    "model.add(layers.Dense(60, activation=\"relu\"))\n",
    "model.add(layers.Dense(10, activation=\"softmax\"))"
   ]
  },
  {
   "cell_type": "code",
   "execution_count": 29,
   "id": "b3ba37fc-8c46-4471-a183-88823bb7f8d3",
   "metadata": {},
   "outputs": [
    {
     "name": "stdout",
     "output_type": "stream",
     "text": [
      "Model: \"sequential_4\"\n",
      "_________________________________________________________________\n",
      " Layer (type)                Output Shape              Param #   \n",
      "=================================================================\n",
      " conv2d_4 (Conv2D)           (None, 26, 26, 6)         60        \n",
      "                                                                 \n",
      " max_pooling2d_4 (MaxPooling  (None, 13, 13, 6)        0         \n",
      " 2D)                                                             \n",
      "                                                                 \n",
      " conv2d_5 (Conv2D)           (None, 11, 11, 10)        550       \n",
      "                                                                 \n",
      " max_pooling2d_5 (MaxPooling  (None, 5, 5, 10)         0         \n",
      " 2D)                                                             \n",
      "                                                                 \n",
      " flatten_1 (Flatten)         (None, 250)               0         \n",
      "                                                                 \n",
      " dense (Dense)               (None, 128)               32128     \n",
      "                                                                 \n",
      " dense_1 (Dense)             (None, 60)                7740      \n",
      "                                                                 \n",
      " dense_2 (Dense)             (None, 10)                610       \n",
      "                                                                 \n",
      "=================================================================\n",
      "Total params: 41,088\n",
      "Trainable params: 41,088\n",
      "Non-trainable params: 0\n",
      "_________________________________________________________________\n"
     ]
    }
   ],
   "source": [
    "model.compile(optimizer=\"adam\", loss=\"categorical_crossentropy\", metrics=[\"accuracy\"])\n",
    "model.summary()"
   ]
  },
  {
   "cell_type": "code",
   "execution_count": 30,
   "id": "9af80935-de27-4c80-86c0-5c43cbcb251b",
   "metadata": {},
   "outputs": [
    {
     "data": {
      "text/plain": [
       "(60000, 28, 28)"
      ]
     },
     "execution_count": 30,
     "metadata": {},
     "output_type": "execute_result"
    }
   ],
   "source": [
    "X_train.shape"
   ]
  },
  {
   "cell_type": "code",
   "execution_count": 31,
   "id": "d26c83d5-7329-40d1-a589-4231710b84c5",
   "metadata": {},
   "outputs": [
    {
     "name": "stdout",
     "output_type": "stream",
     "text": [
      "Epoch 1/20\n",
      "60/60 [==============================] - 2s 28ms/step - loss: 5.9148 - accuracy: 0.4682 - val_loss: 0.8304 - val_accuracy: 0.7455\n",
      "Epoch 2/20\n",
      "60/60 [==============================] - 2s 26ms/step - loss: 0.6198 - accuracy: 0.8122 - val_loss: 0.4550 - val_accuracy: 0.8617\n",
      "Epoch 3/20\n",
      "60/60 [==============================] - 2s 26ms/step - loss: 0.3908 - accuracy: 0.8850 - val_loss: 0.3078 - val_accuracy: 0.9088\n",
      "Epoch 4/20\n",
      "60/60 [==============================] - 2s 26ms/step - loss: 0.2837 - accuracy: 0.9166 - val_loss: 0.2369 - val_accuracy: 0.9310\n",
      "Epoch 5/20\n",
      "60/60 [==============================] - 2s 27ms/step - loss: 0.2218 - accuracy: 0.9341 - val_loss: 0.1919 - val_accuracy: 0.9430\n",
      "Epoch 6/20\n",
      "60/60 [==============================] - 2s 27ms/step - loss: 0.1809 - accuracy: 0.9459 - val_loss: 0.1604 - val_accuracy: 0.9538\n",
      "Epoch 7/20\n",
      "60/60 [==============================] - 2s 26ms/step - loss: 0.1535 - accuracy: 0.9543 - val_loss: 0.1502 - val_accuracy: 0.9548\n",
      "Epoch 8/20\n",
      "60/60 [==============================] - 2s 27ms/step - loss: 0.1329 - accuracy: 0.9596 - val_loss: 0.1351 - val_accuracy: 0.9593\n",
      "Epoch 9/20\n",
      "60/60 [==============================] - 2s 27ms/step - loss: 0.1187 - accuracy: 0.9640 - val_loss: 0.1211 - val_accuracy: 0.9651\n",
      "Epoch 10/20\n",
      "60/60 [==============================] - 2s 26ms/step - loss: 0.1062 - accuracy: 0.9679 - val_loss: 0.1124 - val_accuracy: 0.9672\n",
      "Epoch 11/20\n",
      "60/60 [==============================] - 2s 26ms/step - loss: 0.0954 - accuracy: 0.9715 - val_loss: 0.1078 - val_accuracy: 0.9684\n",
      "Epoch 12/20\n",
      "60/60 [==============================] - 2s 26ms/step - loss: 0.0862 - accuracy: 0.9741 - val_loss: 0.1054 - val_accuracy: 0.9682\n",
      "Epoch 13/20\n",
      "60/60 [==============================] - 2s 25ms/step - loss: 0.0795 - accuracy: 0.9755 - val_loss: 0.1038 - val_accuracy: 0.9703\n",
      "Epoch 14/20\n",
      "60/60 [==============================] - 2s 28ms/step - loss: 0.0725 - accuracy: 0.9780 - val_loss: 0.1000 - val_accuracy: 0.9711\n",
      "Epoch 15/20\n",
      "60/60 [==============================] - 2s 26ms/step - loss: 0.0661 - accuracy: 0.9800 - val_loss: 0.0977 - val_accuracy: 0.9715\n",
      "Epoch 16/20\n",
      "60/60 [==============================] - 2s 26ms/step - loss: 0.0627 - accuracy: 0.9804 - val_loss: 0.0926 - val_accuracy: 0.9737\n",
      "Epoch 17/20\n",
      "60/60 [==============================] - 2s 26ms/step - loss: 0.0580 - accuracy: 0.9823 - val_loss: 0.0984 - val_accuracy: 0.9729\n",
      "Epoch 18/20\n",
      "60/60 [==============================] - 2s 28ms/step - loss: 0.0527 - accuracy: 0.9838 - val_loss: 0.0950 - val_accuracy: 0.9738\n",
      "Epoch 19/20\n",
      "60/60 [==============================] - 2s 26ms/step - loss: 0.0497 - accuracy: 0.9851 - val_loss: 0.0939 - val_accuracy: 0.9737\n",
      "Epoch 20/20\n",
      "60/60 [==============================] - 2s 26ms/step - loss: 0.0450 - accuracy: 0.9864 - val_loss: 0.0926 - val_accuracy: 0.9757\n"
     ]
    },
    {
     "data": {
      "text/plain": [
       "<keras.callbacks.History at 0x19e485d50>"
      ]
     },
     "execution_count": 31,
     "metadata": {},
     "output_type": "execute_result"
    }
   ],
   "source": [
    "model.fit(X_train, y_train, epochs = 20, batch_size = 1000, verbose = True, validation_data = (X_test, y_test))"
   ]
  },
  {
   "cell_type": "code",
   "execution_count": 32,
   "id": "b7e46a54-506a-4ac2-a18d-e949a0ad4dff",
   "metadata": {},
   "outputs": [
    {
     "name": "stdout",
     "output_type": "stream",
     "text": [
      "313/313 [==============================] - 0s 1ms/step - loss: 0.0926 - accuracy: 0.9757\n"
     ]
    }
   ],
   "source": [
    "test_loss, test_acc = model.evaluate(X_test, y_test)"
   ]
  },
  {
   "cell_type": "code",
   "execution_count": 35,
   "id": "c534db58-11c8-4c5d-8109-45aab498ab87",
   "metadata": {},
   "outputs": [
    {
     "name": "stdout",
     "output_type": "stream",
     "text": [
      "313/313 [==============================] - 0s 1ms/step\n",
      "prediction array [2.7508334e-11 1.2154935e-08 3.6914823e-08 1.1667458e-06 1.3170183e-10\n",
      " 1.3356072e-09 8.0616297e-16 9.9999619e-01 1.2162883e-09 2.6528319e-06]\n",
      "number with highest confidence 7\n",
      "actual value [0. 0. 0. 0. 0. 0. 0. 1. 0. 0.]\n"
     ]
    }
   ],
   "source": [
    "predictions = model.predict(X_test)\n",
    "print(\"prediction array\", predictions[0])\n",
    "print(\"number with highest confidence\", np.argmax(predictions[0]))\n",
    "print(\"actual value\", y_test[0])"
   ]
  },
  {
   "cell_type": "code",
   "execution_count": null,
   "id": "252d8fdc-8b7c-48c3-a1cd-f09cfd8d384f",
   "metadata": {},
   "outputs": [],
   "source": []
  }
 ],
 "metadata": {
  "kernelspec": {
   "display_name": "Python 3 (ipykernel)",
   "language": "python",
   "name": "python3"
  },
  "language_info": {
   "codemirror_mode": {
    "name": "ipython",
    "version": 3
   },
   "file_extension": ".py",
   "mimetype": "text/x-python",
   "name": "python",
   "nbconvert_exporter": "python",
   "pygments_lexer": "ipython3",
   "version": "3.11.5"
  }
 },
 "nbformat": 4,
 "nbformat_minor": 5
}
