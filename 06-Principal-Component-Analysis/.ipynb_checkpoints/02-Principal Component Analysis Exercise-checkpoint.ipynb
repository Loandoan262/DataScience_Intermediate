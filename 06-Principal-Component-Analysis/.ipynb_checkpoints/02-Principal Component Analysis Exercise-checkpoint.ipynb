{
 "cells": [
  {
   "cell_type": "markdown",
   "id": "ed525676-7d57-4524-a104-ab5c42705333",
   "metadata": {},
   "source": [
    "# Principal Component Analysis Project\n",
    "\n",
    "In this project, please apply PCA to the iris dataset and then create a model to classify the target. Compare with the result when no PCA is applied."
   ]
  },
  {
   "cell_type": "code",
   "execution_count": 1,
   "id": "9793d0c0-4b8a-4c94-b121-daebc1c2686a",
   "metadata": {},
   "outputs": [],
   "source": [
    "from sklearn import datasets\n",
    "\n",
    "iris = datasets.load_iris()"
   ]
  },
  {
   "cell_type": "code",
   "execution_count": null,
   "id": "a69c383b-3e3e-4de5-979b-b59335fdd872",
   "metadata": {},
   "outputs": [],
   "source": []
  }
 ],
 "metadata": {
  "kernelspec": {
   "display_name": "Python 3 (ipykernel)",
   "language": "python",
   "name": "python3"
  },
  "language_info": {
   "codemirror_mode": {
    "name": "ipython",
    "version": 3
   },
   "file_extension": ".py",
   "mimetype": "text/x-python",
   "name": "python",
   "nbconvert_exporter": "python",
   "pygments_lexer": "ipython3",
   "version": "3.11.7"
  }
 },
 "nbformat": 4,
 "nbformat_minor": 5
}
